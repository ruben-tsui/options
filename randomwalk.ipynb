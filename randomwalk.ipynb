{
 "cells": [
  {
   "cell_type": "markdown",
   "metadata": {},
   "source": [
    "## Simulated Radom Walk"
   ]
  },
  {
   "cell_type": "code",
   "execution_count": null,
   "metadata": {},
   "outputs": [],
   "source": [
    "%matplotlib inline\n",
    "%config InlineBackend.figure_format = 'svg'"
   ]
  },
  {
   "cell_type": "code",
   "execution_count": null,
   "metadata": {},
   "outputs": [],
   "source": [
    "from pylab import plt\n",
    "plt.style.use('seaborn')\n",
    "import matplotlib as mpl\n",
    "mpl.rcParams['font.family'] = 'DejaVu Sans'\n",
    "import warnings; warnings.simplefilter('ignore')"
   ]
  },
  {
   "cell_type": "code",
   "execution_count": null,
   "metadata": {
    "uuid": "009042d8-f384-482c-8b4b-eeac6312315e"
   },
   "outputs": [],
   "source": [
    "import numpy as np\n",
    "import matplotlib.pyplot as plt"
   ]
  },
  {
   "cell_type": "code",
   "execution_count": null,
   "metadata": {},
   "outputs": [],
   "source": [
    "from ipywidgets import widgets, interactive, interact, interactive_output"
   ]
  },
  {
   "cell_type": "markdown",
   "metadata": {},
   "source": [
    "## Monte Carlo Simulation"
   ]
  },
  {
   "cell_type": "code",
   "execution_count": null,
   "metadata": {},
   "outputs": [],
   "source": [
    "#np.random.seed(12345)"
   ]
  },
  {
   "cell_type": "markdown",
   "metadata": {},
   "source": [
    "### Vectorization with NumPy"
   ]
  },
  {
   "cell_type": "code",
   "execution_count": null,
   "metadata": {
    "uuid": "0fca4476-2003-4733-a6e1-f405997e1b1a"
   },
   "outputs": [],
   "source": [
    "def simulate(S0, u, d, p, T, N):\n",
    "    '''\n",
    "    S0 = 100  # initial price\n",
    "    u  = 1.1  # \"up\" factor\n",
    "    d  = 0.9 # \"down\" factor\n",
    "    p  = 0.4  # probability of \"up\"\n",
    "    T  = 30   # time-step size\n",
    "    N  = 50000 # sample size (no. of simulations)    \n",
    "    '''\n",
    "    # Simulating I paths with M time steps\n",
    "    S = np.zeros((T + 1, N))\n",
    "    S[0] = S0\n",
    "    for t in range(1, T + 1):\n",
    "        z = np.random.rand(N)  # pseudorandom numbers\n",
    "        S[t] = S[t - 1] * ( (z<p)*u + (z>p)*d )\n",
    "          # vectorized operation per time step over all paths\n",
    "    return S"
   ]
  },
  {
   "cell_type": "markdown",
   "metadata": {},
   "source": [
    "### Graphical Analysis"
   ]
  },
  {
   "cell_type": "code",
   "execution_count": null,
   "metadata": {},
   "outputs": [],
   "source": [
    "from mpl_toolkits.axes_grid1 import make_axes_locatable\n",
    "from matplotlib.ticker import FuncFormatter #, MultipleLocator, FormatStrFormatter, AutoMinorLocator"
   ]
  },
  {
   "cell_type": "code",
   "execution_count": null,
   "metadata": {},
   "outputs": [],
   "source": [
    "def animate(S0, u, d, p, T, N, P=10):\n",
    "    '''\n",
    "    S: data\n",
    "    NumSims: simulation size\n",
    "    numPaths: no. of simulated paths shown\n",
    "    '''\n",
    "    S = simulate(S0, u, d, p, T, N)\n",
    "    fig, mainplot = plt.subplots(figsize=(8, 5))\n",
    "    mainplot.plot(S[:, :P])\n",
    "    plt.grid(True)\n",
    "    plt.xlabel('time step')\n",
    "    plt.ylabel('index level')\n",
    "    divider = make_axes_locatable(mainplot)\n",
    "    axHist = divider.append_axes(\"right\", 2.5, pad=0.2, sharey=mainplot)\n",
    "    axHist.hist(S[-1, :N], bins=20, orientation='horizontal', normed=True)\n",
    "    axHist.yaxis.set_ticks_position(\"right\")\n",
    "    axHist.xaxis.set_major_formatter(FuncFormatter('{0:.1%}'.format))\n",
    "    plt.grid(True)\n",
    "    plt.xlabel('probability')\n",
    "    plt.show()"
   ]
  },
  {
   "cell_type": "code",
   "execution_count": null,
   "metadata": {},
   "outputs": [],
   "source": [
    "S0=widgets.FloatSlider(min=100, max=500, step=100,  value=100,  description=\"$S_0$\")\n",
    "u=widgets.FloatSlider(min=1.0,  max=2.0, step=0.01, value=1.05, description=\"u\")\n",
    "d=widgets.FloatSlider(min=0.1,  max=1.0, step=0.1,  value=0.95, description=\"d\")\n",
    "p=widgets.FloatSlider(min=0.0,  max=1.0, step=0.1,  value=0.5,  description=\"up prob\")\n",
    "T=widgets.IntSlider(min=5,    max=100,   step=5,    value=10,   description='Time steps')\n",
    "N=widgets.IntSlider(min=1000, max=10000, step=1000, value=5000, description='Simulation size')\n",
    "P=widgets.IntSlider(min=10,   max=100,   step=10,   value=20,   description='Paths displayed')\n",
    "ui1 = widgets.HBox([S0, u, d, p])\n",
    "ui2 = widgets.HBox([T, N, P])\n",
    "ui  = widgets.VBox([ui1, ui2])\n",
    "out = interactive_output(animate, {'S0': S0, 'u': u, 'd': d, 'p': p, 'T': T, 'N': N, 'P': P})\n",
    "display(ui, out)"
   ]
  }
 ],
 "metadata": {
  "anaconda-cloud": {},
  "kernelspec": {
   "display_name": "Python 3",
   "language": "python",
   "name": "python3"
  },
  "language_info": {
   "codemirror_mode": {
    "name": "ipython",
    "version": 3
   },
   "file_extension": ".py",
   "mimetype": "text/x-python",
   "name": "python",
   "nbconvert_exporter": "python",
   "pygments_lexer": "ipython3",
   "version": "3.6.6"
  }
 },
 "nbformat": 4,
 "nbformat_minor": 2
}
