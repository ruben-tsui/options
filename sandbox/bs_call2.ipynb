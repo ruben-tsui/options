{
 "cells": [
  {
   "cell_type": "code",
   "execution_count": 74,
   "metadata": {},
   "outputs": [],
   "source": [
    "%run bs_call_base.py\n",
    "%matplotlib inline\n",
    "%config InlineBackend.figure_format = 'svg'"
   ]
  },
  {
   "cell_type": "markdown",
   "metadata": {},
   "source": [
    "interactive(plot_func,\n",
    "            σ = widgets.FloatSlider(min=0.01, max=1.10, step=0.01, value=0.20, readout_format='.3f', description='σ (volatility)'),\n",
    "            K = widgets.FloatSlider(min=80, max=120, step=10, value=100, description='K (strike pr.)'),\n",
    "            r = widgets.FloatSlider(min=0.01, max=0.05, step=0.01, value=0.02, description='r'),\n",
    "            q = widgets.FloatSlider(min=0.01, max=0.05, step=0.01, value=0.01, description='q'))"
   ]
  },
  {
   "cell_type": "markdown",
   "metadata": {},
   "source": [
    "#### The Black-Scholes European Call Option formula\n",
    "$$\n",
    "{\\displaystyle {\\begin{aligned}C(S_{t},t)&=N(d_{1})S_{t}-N(d_{2})Ke^{-r(T-t)}\\\\d_{1}&={\\frac {1}{\\sigma {\\sqrt {T-t}}}}\\left[\\ln \\left({\\frac {S_{t}}{K}}\\right)+\\left(r+{\\frac {\\sigma ^{2}}{2}}\\right)(T-t)\\right]\\\\d_{2}&=d_{1}-\\sigma {\\sqrt {T-t}}\\\\\\end{aligned}}}\n",
    "$$"
   ]
  },
  {
   "cell_type": "code",
   "execution_count": 75,
   "metadata": {},
   "outputs": [
    {
     "data": {
      "application/vnd.jupyter.widget-view+json": {
       "model_id": "c84446e6187e4be299d692b2395d8d75",
       "version_major": 2,
       "version_minor": 0
      },
      "text/plain": [
       "interactive(children=(FloatSlider(value=0.35, description='σ (volatility)', max=1.1, min=0.01, readout_format=…"
      ]
     },
     "metadata": {},
     "output_type": "display_data"
    }
   ],
   "source": [
    "interactive(plot_func2, slope=widgets.FloatSlider(min=50, max=180, step=5, value=120, description='slope'),\n",
    "           σ = widgets.FloatSlider(min=0.01, max=1.10, step=0.01, value=0.35, readout_format='.3f', description='σ (volatility)'))"
   ]
  },
  {
   "cell_type": "code",
   "execution_count": null,
   "metadata": {},
   "outputs": [],
   "source": []
  }
 ],
 "metadata": {
  "kernelspec": {
   "display_name": "Python 3",
   "language": "python",
   "name": "python3"
  },
  "language_info": {
   "codemirror_mode": {
    "name": "ipython",
    "version": 3
   },
   "file_extension": ".py",
   "mimetype": "text/x-python",
   "name": "python",
   "nbconvert_exporter": "python",
   "pygments_lexer": "ipython3",
   "version": "3.6.8"
  }
 },
 "nbformat": 4,
 "nbformat_minor": 2
}
